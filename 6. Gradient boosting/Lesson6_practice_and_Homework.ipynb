{
 "cells": [
  {
   "cell_type": "markdown",
   "metadata": {
    "colab_type": "text",
    "id": "41AitfhKbsha"
   },
   "source": [
    "# Урок 6. Градиентный бустинг"
   ]
  },
  {
   "cell_type": "code",
   "execution_count": 2,
   "metadata": {
    "colab": {},
    "colab_type": "code",
    "id": "Qk-74OFhbshx"
   },
   "outputs": [],
   "source": [
    "from sklearn.tree import DecisionTreeRegressor\n",
    "\n",
    "from sklearn import model_selection\n",
    "import numpy as np"
   ]
  },
  {
   "cell_type": "code",
   "execution_count": 3,
   "metadata": {
    "colab": {},
    "colab_type": "code",
    "id": "eDZbSvqMbsh1"
   },
   "outputs": [],
   "source": [
    "from sklearn.datasets import load_diabetes"
   ]
  },
  {
   "cell_type": "code",
   "execution_count": 4,
   "metadata": {
    "colab": {},
    "colab_type": "code",
    "id": "leu8bBI7bsh6"
   },
   "outputs": [],
   "source": [
    "X, y = load_diabetes(return_X_y=True)"
   ]
  },
  {
   "cell_type": "code",
   "execution_count": 5,
   "metadata": {},
   "outputs": [
    {
     "data": {
      "text/plain": [
       "(442, 10)"
      ]
     },
     "execution_count": 5,
     "metadata": {},
     "output_type": "execute_result"
    }
   ],
   "source": [
    "X.shape"
   ]
  },
  {
   "cell_type": "code",
   "execution_count": 6,
   "metadata": {
    "colab": {},
    "colab_type": "code",
    "id": "ExZPR9FLbsh9"
   },
   "outputs": [],
   "source": [
    "X_train, X_test, y_train, y_test = model_selection.train_test_split(X, y, test_size=0.25)"
   ]
  },
  {
   "cell_type": "markdown",
   "metadata": {
    "colab_type": "text",
    "id": "7xJCdggZbsh_"
   },
   "source": [
    "Напишем функцию, реализующую предсказание в градиентном бустинге."
   ]
  },
  {
   "cell_type": "code",
   "execution_count": 7,
   "metadata": {
    "colab": {},
    "colab_type": "code",
    "id": "wU_Rkc63bsiA"
   },
   "outputs": [],
   "source": [
    "def gb_predict(X, trees_list, coef_list, eta):\n",
    "    return np.array([sum([eta*coef*alg.predict([x])[0] for alg, coef in zip(trees_list, coef_list)]) for x in X])\n"
   ]
  },
  {
   "cell_type": "markdown",
   "metadata": {
    "colab_type": "text",
    "id": "6gZvsyfSbsiD"
   },
   "source": [
    "В качестве функционала ошибки будем использовать среднеквадратичную ошибку. Реализуем соответствующую функицию."
   ]
  },
  {
   "cell_type": "code",
   "execution_count": 8,
   "metadata": {
    "colab": {},
    "colab_type": "code",
    "id": "0xbjFIEKbsiE"
   },
   "outputs": [],
   "source": [
    "def mean_squared_error(y_real, prediction):\n",
    "    return (sum((y_real - prediction)**2)) / len(y_real)"
   ]
  },
  {
   "cell_type": "code",
   "execution_count": 9,
   "metadata": {
    "colab": {},
    "colab_type": "code",
    "id": "WRaZEd3ebsiI"
   },
   "outputs": [],
   "source": [
    "def deriv(y, z):\n",
    "    return 2*(y - z)"
   ]
  },
  {
   "cell_type": "markdown",
   "metadata": {
    "colab_type": "text",
    "id": "ut-7dBgVbsiK"
   },
   "source": [
    "Реализуем функцию обучения градиентного бустинга."
   ]
  },
  {
   "cell_type": "code",
   "execution_count": 10,
   "metadata": {
    "colab": {},
    "colab_type": "code",
    "id": "HoIdAoPYbsiL"
   },
   "outputs": [],
   "source": [
    "def gb_fit(n_trees, max_depth, X_train, X_test, y_train, y_test, coefs, eta):\n",
    "    \n",
    "    # Деревья будем записывать в список\n",
    "    trees = []\n",
    "    \n",
    "    # Будем записывать ошибки на обучающей и тестовой выборке на каждой итерации в список\n",
    "    train_errors = []\n",
    "    test_errors = []\n",
    "    \n",
    "    for i in range(n_trees):\n",
    "        tree = DecisionTreeRegressor(max_depth=max_depth, random_state=42)\n",
    "\n",
    "        # инициализируем бустинг начальным алгоритмом, возвращающим ноль, \n",
    "        # поэтому первый алгоритм просто обучаем на выборке и добавляем в список\n",
    "        if len(trees) == 0:\n",
    "            # обучаем первое дерево на обучающей выборке\n",
    "            tree.fit(X_train, y_train)\n",
    "            \n",
    "            train_errors.append(mean_squared_error(y_train, gb_predict(X_train, trees, coefs, eta)))\n",
    "            test_errors.append(mean_squared_error(y_test, gb_predict(X_test, trees, coefs, eta)))\n",
    "        else:\n",
    "            # Получим ответы на текущей композиции\n",
    "            pred = gb_predict(X_train, trees, coefs, eta)\n",
    "            \n",
    "            # алгоритмы начиная со второго обучаем на сдвиг\n",
    "            tree.fit(X_train, deriv(y_train, pred))\n",
    "            \n",
    "            train_errors.append(mean_squared_error(y_train, gb_predict(X_train, trees, coefs, eta)))\n",
    "            test_errors.append(mean_squared_error(y_test, gb_predict(X_test, trees, coefs, eta)))\n",
    "\n",
    "        trees.append(tree)\n",
    "        \n",
    "    return trees, train_errors, test_errors"
   ]
  },
  {
   "cell_type": "markdown",
   "metadata": {
    "colab_type": "text",
    "id": "0vkHFhhzbsiN"
   },
   "source": [
    "Теперь обучим несколько моделей с разными параметрами и исследуем их поведение."
   ]
  },
  {
   "cell_type": "code",
   "execution_count": 11,
   "metadata": {
    "colab": {},
    "colab_type": "code",
    "id": "2WvxluSlbsiO"
   },
   "outputs": [
    {
     "name": "stdout",
     "output_type": "stream",
     "text": [
      "Wall time: 2.74 s\n"
     ]
    }
   ],
   "source": [
    "%%time\n",
    "# Число деревьев в ансамбле\n",
    "n_trees = 10\n",
    "\n",
    "# для простоты примем коэффициенты равными 1\n",
    "coefs = [1] * n_trees\n",
    "\n",
    "# Максимальная глубина деревьев\n",
    "max_depth = 3\n",
    "\n",
    "# Шаг\n",
    "eta = 1\n",
    "\n",
    "trees, train_errors, test_errors = gb_fit(n_trees, max_depth, X_train, X_test, y_train, y_test, coefs, eta)"
   ]
  },
  {
   "cell_type": "code",
   "execution_count": 12,
   "metadata": {
    "colab": {},
    "colab_type": "code",
    "id": "GDMFn3R-bsiR"
   },
   "outputs": [],
   "source": [
    "def evaluate_alg(X_train, X_test, y_train, y_test, trees, coefs, eta):\n",
    "    \n",
    "    train_prediction = gb_predict(X_train, trees, coefs, eta)\n",
    "\n",
    "    print(f'Ошибка алгоритма из {n_trees} деревьев глубиной {max_depth} \\\n",
    "    с шагом {eta} на тренировочной выборке: {mean_squared_error(y_train, train_prediction)}')\n",
    "\n",
    "    test_prediction = gb_predict(X_test, trees, coefs, eta)\n",
    "\n",
    "    print(f'Ошибка алгоритма из {n_trees} деревьев глубиной {max_depth} \\\n",
    "    с шагом {eta} на тестовой выборке: {mean_squared_error(y_test, test_prediction)}')"
   ]
  },
  {
   "cell_type": "code",
   "execution_count": 13,
   "metadata": {
    "colab": {},
    "colab_type": "code",
    "id": "WEBbjCynbsiV",
    "outputId": "e3e7bf19-aa15-4340-eceb-e2799f36140c"
   },
   "outputs": [
    {
     "name": "stdout",
     "output_type": "stream",
     "text": [
      "Ошибка алгоритма из 10 деревьев глубиной 3     с шагом 1 на тренировочной выборке: 2866.870058269294\n",
      "Ошибка алгоритма из 10 деревьев глубиной 3     с шагом 1 на тестовой выборке: 10209.690755862699\n"
     ]
    }
   ],
   "source": [
    "evaluate_alg(X_train, X_test, y_train, y_test, trees, coefs, eta)"
   ]
  },
  {
   "cell_type": "markdown",
   "metadata": {
    "colab_type": "text",
    "id": "TluGn7Iubsib"
   },
   "source": [
    "Построим графики зависимости ошибки на обучающей и тестовой выборках от числа итераций."
   ]
  },
  {
   "cell_type": "code",
   "execution_count": 14,
   "metadata": {
    "colab": {},
    "colab_type": "code",
    "id": "QXrSdSgjbsic"
   },
   "outputs": [],
   "source": [
    "import matplotlib.pyplot as plt"
   ]
  },
  {
   "cell_type": "code",
   "execution_count": 15,
   "metadata": {
    "colab": {},
    "colab_type": "code",
    "id": "gjDdKkgObsif"
   },
   "outputs": [],
   "source": [
    "def get_error_plot(n_trees, train_err, test_err):\n",
    "    plt.xlabel('Iteration number')\n",
    "    plt.ylabel('MSE')\n",
    "    plt.xlim(0, n_trees)\n",
    "    plt.plot(list(range(n_trees)), train_err, label='train error')\n",
    "    plt.plot(list(range(n_trees)), test_err, label='test error')\n",
    "    plt.legend(loc='upper right')\n",
    "    plt.show()"
   ]
  },
  {
   "cell_type": "code",
   "execution_count": 16,
   "metadata": {
    "colab": {},
    "colab_type": "code",
    "id": "Was5hOJPbsih",
    "outputId": "e4a4837d-6d3e-4861-8a35-fa26d5746f62"
   },
   "outputs": [
    {
     "data": {
      "image/png": "[encoded data removed]",
      "text/plain": [
       "<Figure size 432x288 with 1 Axes>"
      ]
     },
     "metadata": {
      "needs_background": "light"
     },
     "output_type": "display_data"
    }
   ],
   "source": [
    "get_error_plot(n_trees, train_errors, test_errors)"
   ]
  },
  {
   "cell_type": "markdown",
   "metadata": {
    "colab_type": "text",
    "id": "NS16dUwRbsik"
   },
   "source": [
    "Такой результат не является удовлетворительным"
   ]
  },
  {
   "cell_type": "markdown",
   "metadata": {
    "colab_type": "text",
    "id": "9n8R32khbsil"
   },
   "source": [
    "Увеличим число деревьев."
   ]
  },
  {
   "cell_type": "code",
   "execution_count": 100,
   "metadata": {
    "colab": {},
    "colab_type": "code",
    "id": "SdiTyDJrbsil"
   },
   "outputs": [
    {
     "name": "stdout",
     "output_type": "stream",
     "text": [
      "Wall time: 4min 33s\n"
     ]
    }
   ],
   "source": [
    "%%time\n",
    "n_trees = 100\n",
    "coefs = [1] * n_trees\n",
    "\n",
    "trees, train_errors, test_errors = gb_fit(n_trees, max_depth, X_train, X_test, y_train, y_test, coefs, eta)"
   ]
  },
  {
   "cell_type": "code",
   "execution_count": 101,
   "metadata": {
    "colab": {},
    "colab_type": "code",
    "id": "PZ2BU15lbsin",
    "outputId": "3223b2d8-6cba-451f-9af7-dfc89cc2fe22"
   },
   "outputs": [
    {
     "name": "stdout",
     "output_type": "stream",
     "text": [
      "Ошибка алгоритма из 100 деревьев глубиной 3     с шагом 1 на тренировочной выборке: 2687.2255516050795\n",
      "Ошибка алгоритма из 100 деревьев глубиной 3     с шагом 1 на тестовой выборке: 10413.339111789559\n"
     ]
    }
   ],
   "source": [
    "evaluate_alg(X_train, X_test, y_train, y_test, trees, coefs, eta)"
   ]
  },
  {
   "cell_type": "code",
   "execution_count": 102,
   "metadata": {
    "colab": {},
    "colab_type": "code",
    "id": "Wuls3BYWbsip",
    "outputId": "3055e9f7-0063-40af-a6a7-849d06f24a7d"
   },
   "outputs": [
    {
     "data": {
      "image/png": "[encoded data removed]",
      "text/plain": [
       "<Figure size 432x288 with 1 Axes>"
      ]
     },
     "metadata": {
      "needs_background": "light"
     },
     "output_type": "display_data"
    }
   ],
   "source": [
    "get_error_plot(n_trees, train_errors, test_errors)"
   ]
  },
  {
   "cell_type": "markdown",
   "metadata": {
    "colab_type": "text",
    "id": "V2gubWC0bsis"
   },
   "source": [
    "Теперь попробуем уменьшить шаг."
   ]
  },
  {
   "cell_type": "code",
   "execution_count": 103,
   "metadata": {
    "colab": {},
    "colab_type": "code",
    "id": "SqfMt3KMbsis"
   },
   "outputs": [
    {
     "name": "stdout",
     "output_type": "stream",
     "text": [
      "Wall time: 1min 6s\n"
     ]
    }
   ],
   "source": [
    "%%time\n",
    "eta = 0.1\n",
    "n_trees = 50\n",
    "trees, train_errors, test_errors = gb_fit(n_trees, max_depth, X_train, X_test, y_train, y_test, coefs, eta)"
   ]
  },
  {
   "cell_type": "code",
   "execution_count": 104,
   "metadata": {
    "colab": {},
    "colab_type": "code",
    "id": "0Rkc97-ibsiu",
    "outputId": "c4a5a6e3-81d6-460f-ccaa-1ada3bcdb959"
   },
   "outputs": [
    {
     "name": "stdout",
     "output_type": "stream",
     "text": [
      "Ошибка алгоритма из 50 деревьев глубиной 3     с шагом 0.1 на тренировочной выборке: 883.3191776663208\n",
      "Ошибка алгоритма из 50 деревьев глубиной 3     с шагом 0.1 на тестовой выборке: 4035.0985331086586\n"
     ]
    }
   ],
   "source": [
    "evaluate_alg(X_train, X_test, y_train, y_test, trees, coefs, eta)"
   ]
  },
  {
   "cell_type": "code",
   "execution_count": 105,
   "metadata": {
    "colab": {},
    "colab_type": "code",
    "id": "x0Ij4Fbrbsiw",
    "outputId": "9083ac69-d276-4faf-b01c-62403302c29c"
   },
   "outputs": [
    {
     "data": {
      "image/png": "[encoded data removed]",
      "text/plain": [
       "<Figure size 432x288 with 1 Axes>"
      ]
     },
     "metadata": {
      "needs_background": "light"
     },
     "output_type": "display_data"
    }
   ],
   "source": [
    "get_error_plot(n_trees, train_errors, test_errors)"
   ]
  },
  {
   "cell_type": "markdown",
   "metadata": {
    "colab_type": "text",
    "id": "NOM9bowjbsiy"
   },
   "source": [
    "Видим, что качество обучения улучшается."
   ]
  },
  {
   "cell_type": "markdown",
   "metadata": {
    "colab_type": "text",
    "id": "OCU1ZgSxbsi0"
   },
   "source": [
    "Уменьшим шаг до 0.01."
   ]
  },
  {
   "cell_type": "code",
   "execution_count": 123,
   "metadata": {
    "colab": {},
    "colab_type": "code",
    "id": "QvDpXS-Ybsi1"
   },
   "outputs": [
    {
     "ename": "KeyboardInterrupt",
     "evalue": "",
     "output_type": "error",
     "traceback": [
      "\u001b[1;31m---------------------------------------------------------------------------\u001b[0m",
      "\u001b[1;31mKeyboardInterrupt\u001b[0m                         Traceback (most recent call last)",
      "\u001b[1;32m<timed exec>\u001b[0m in \u001b[0;36m<module>\u001b[1;34m\u001b[0m\n",
      "\u001b[1;32m<ipython-input-93-3a507b4d115b>\u001b[0m in \u001b[0;36mgb_fit\u001b[1;34m(n_trees, max_depth, X_train, X_test, y_train, y_test, coefs, eta)\u001b[0m\n\u001b[0;32m     26\u001b[0m             \u001b[0mtree\u001b[0m\u001b[1;33m.\u001b[0m\u001b[0mfit\u001b[0m\u001b[1;33m(\u001b[0m\u001b[0mX_train\u001b[0m\u001b[1;33m,\u001b[0m \u001b[0mderiv\u001b[0m\u001b[1;33m(\u001b[0m\u001b[0my_train\u001b[0m\u001b[1;33m,\u001b[0m \u001b[0mpred\u001b[0m\u001b[1;33m)\u001b[0m\u001b[1;33m)\u001b[0m\u001b[1;33m\u001b[0m\u001b[1;33m\u001b[0m\u001b[0m\n\u001b[0;32m     27\u001b[0m \u001b[1;33m\u001b[0m\u001b[0m\n\u001b[1;32m---> 28\u001b[1;33m             \u001b[0mtrain_errors\u001b[0m\u001b[1;33m.\u001b[0m\u001b[0mappend\u001b[0m\u001b[1;33m(\u001b[0m\u001b[0mmean_squared_error\u001b[0m\u001b[1;33m(\u001b[0m\u001b[0my_train\u001b[0m\u001b[1;33m,\u001b[0m \u001b[0mgb_predict\u001b[0m\u001b[1;33m(\u001b[0m\u001b[0mX_train\u001b[0m\u001b[1;33m,\u001b[0m \u001b[0mtrees\u001b[0m\u001b[1;33m,\u001b[0m \u001b[0mcoefs\u001b[0m\u001b[1;33m,\u001b[0m \u001b[0meta\u001b[0m\u001b[1;33m)\u001b[0m\u001b[1;33m)\u001b[0m\u001b[1;33m)\u001b[0m\u001b[1;33m\u001b[0m\u001b[1;33m\u001b[0m\u001b[0m\n\u001b[0m\u001b[0;32m     29\u001b[0m             \u001b[0mtest_errors\u001b[0m\u001b[1;33m.\u001b[0m\u001b[0mappend\u001b[0m\u001b[1;33m(\u001b[0m\u001b[0mmean_squared_error\u001b[0m\u001b[1;33m(\u001b[0m\u001b[0my_test\u001b[0m\u001b[1;33m,\u001b[0m \u001b[0mgb_predict\u001b[0m\u001b[1;33m(\u001b[0m\u001b[0mX_test\u001b[0m\u001b[1;33m,\u001b[0m \u001b[0mtrees\u001b[0m\u001b[1;33m,\u001b[0m \u001b[0mcoefs\u001b[0m\u001b[1;33m,\u001b[0m \u001b[0meta\u001b[0m\u001b[1;33m)\u001b[0m\u001b[1;33m)\u001b[0m\u001b[1;33m)\u001b[0m\u001b[1;33m\u001b[0m\u001b[1;33m\u001b[0m\u001b[0m\n\u001b[0;32m     30\u001b[0m \u001b[1;33m\u001b[0m\u001b[0m\n",
      "\u001b[1;32m<ipython-input-90-546864367775>\u001b[0m in \u001b[0;36mgb_predict\u001b[1;34m(X, trees_list, coef_list, eta)\u001b[0m\n\u001b[0;32m      1\u001b[0m \u001b[1;32mdef\u001b[0m \u001b[0mgb_predict\u001b[0m\u001b[1;33m(\u001b[0m\u001b[0mX\u001b[0m\u001b[1;33m,\u001b[0m \u001b[0mtrees_list\u001b[0m\u001b[1;33m,\u001b[0m \u001b[0mcoef_list\u001b[0m\u001b[1;33m,\u001b[0m \u001b[0meta\u001b[0m\u001b[1;33m)\u001b[0m\u001b[1;33m:\u001b[0m\u001b[1;33m\u001b[0m\u001b[1;33m\u001b[0m\u001b[0m\n\u001b[1;32m----> 2\u001b[1;33m     \u001b[1;32mreturn\u001b[0m \u001b[0mnp\u001b[0m\u001b[1;33m.\u001b[0m\u001b[0marray\u001b[0m\u001b[1;33m(\u001b[0m\u001b[1;33m[\u001b[0m\u001b[0msum\u001b[0m\u001b[1;33m(\u001b[0m\u001b[1;33m[\u001b[0m\u001b[0meta\u001b[0m\u001b[1;33m*\u001b[0m\u001b[0mcoef\u001b[0m\u001b[1;33m*\u001b[0m\u001b[0malg\u001b[0m\u001b[1;33m.\u001b[0m\u001b[0mpredict\u001b[0m\u001b[1;33m(\u001b[0m\u001b[1;33m[\u001b[0m\u001b[0mx\u001b[0m\u001b[1;33m]\u001b[0m\u001b[1;33m)\u001b[0m\u001b[1;33m[\u001b[0m\u001b[1;36m0\u001b[0m\u001b[1;33m]\u001b[0m \u001b[1;32mfor\u001b[0m \u001b[0malg\u001b[0m\u001b[1;33m,\u001b[0m \u001b[0mcoef\u001b[0m \u001b[1;32min\u001b[0m \u001b[0mzip\u001b[0m\u001b[1;33m(\u001b[0m\u001b[0mtrees_list\u001b[0m\u001b[1;33m,\u001b[0m \u001b[0mcoef_list\u001b[0m\u001b[1;33m)\u001b[0m\u001b[1;33m]\u001b[0m\u001b[1;33m)\u001b[0m \u001b[1;32mfor\u001b[0m \u001b[0mx\u001b[0m \u001b[1;32min\u001b[0m \u001b[0mX\u001b[0m\u001b[1;33m]\u001b[0m\u001b[1;33m)\u001b[0m\u001b[1;33m\u001b[0m\u001b[1;33m\u001b[0m\u001b[0m\n\u001b[0m",
      "\u001b[1;32m<ipython-input-90-546864367775>\u001b[0m in \u001b[0;36m<listcomp>\u001b[1;34m(.0)\u001b[0m\n\u001b[0;32m      1\u001b[0m \u001b[1;32mdef\u001b[0m \u001b[0mgb_predict\u001b[0m\u001b[1;33m(\u001b[0m\u001b[0mX\u001b[0m\u001b[1;33m,\u001b[0m \u001b[0mtrees_list\u001b[0m\u001b[1;33m,\u001b[0m \u001b[0mcoef_list\u001b[0m\u001b[1;33m,\u001b[0m \u001b[0meta\u001b[0m\u001b[1;33m)\u001b[0m\u001b[1;33m:\u001b[0m\u001b[1;33m\u001b[0m\u001b[1;33m\u001b[0m\u001b[0m\n\u001b[1;32m----> 2\u001b[1;33m     \u001b[1;32mreturn\u001b[0m \u001b[0mnp\u001b[0m\u001b[1;33m.\u001b[0m\u001b[0marray\u001b[0m\u001b[1;33m(\u001b[0m\u001b[1;33m[\u001b[0m\u001b[0msum\u001b[0m\u001b[1;33m(\u001b[0m\u001b[1;33m[\u001b[0m\u001b[0meta\u001b[0m\u001b[1;33m*\u001b[0m\u001b[0mcoef\u001b[0m\u001b[1;33m*\u001b[0m\u001b[0malg\u001b[0m\u001b[1;33m.\u001b[0m\u001b[0mpredict\u001b[0m\u001b[1;33m(\u001b[0m\u001b[1;33m[\u001b[0m\u001b[0mx\u001b[0m\u001b[1;33m]\u001b[0m\u001b[1;33m)\u001b[0m\u001b[1;33m[\u001b[0m\u001b[1;36m0\u001b[0m\u001b[1;33m]\u001b[0m \u001b[1;32mfor\u001b[0m \u001b[0malg\u001b[0m\u001b[1;33m,\u001b[0m \u001b[0mcoef\u001b[0m \u001b[1;32min\u001b[0m \u001b[0mzip\u001b[0m\u001b[1;33m(\u001b[0m\u001b[0mtrees_list\u001b[0m\u001b[1;33m,\u001b[0m \u001b[0mcoef_list\u001b[0m\u001b[1;33m)\u001b[0m\u001b[1;33m]\u001b[0m\u001b[1;33m)\u001b[0m \u001b[1;32mfor\u001b[0m \u001b[0mx\u001b[0m \u001b[1;32min\u001b[0m \u001b[0mX\u001b[0m\u001b[1;33m]\u001b[0m\u001b[1;33m)\u001b[0m\u001b[1;33m\u001b[0m\u001b[1;33m\u001b[0m\u001b[0m\n\u001b[0m",
      "\u001b[1;32m<ipython-input-90-546864367775>\u001b[0m in \u001b[0;36m<listcomp>\u001b[1;34m(.0)\u001b[0m\n\u001b[0;32m      1\u001b[0m \u001b[1;32mdef\u001b[0m \u001b[0mgb_predict\u001b[0m\u001b[1;33m(\u001b[0m\u001b[0mX\u001b[0m\u001b[1;33m,\u001b[0m \u001b[0mtrees_list\u001b[0m\u001b[1;33m,\u001b[0m \u001b[0mcoef_list\u001b[0m\u001b[1;33m,\u001b[0m \u001b[0meta\u001b[0m\u001b[1;33m)\u001b[0m\u001b[1;33m:\u001b[0m\u001b[1;33m\u001b[0m\u001b[1;33m\u001b[0m\u001b[0m\n\u001b[1;32m----> 2\u001b[1;33m     \u001b[1;32mreturn\u001b[0m \u001b[0mnp\u001b[0m\u001b[1;33m.\u001b[0m\u001b[0marray\u001b[0m\u001b[1;33m(\u001b[0m\u001b[1;33m[\u001b[0m\u001b[0msum\u001b[0m\u001b[1;33m(\u001b[0m\u001b[1;33m[\u001b[0m\u001b[0meta\u001b[0m\u001b[1;33m*\u001b[0m\u001b[0mcoef\u001b[0m\u001b[1;33m*\u001b[0m\u001b[0malg\u001b[0m\u001b[1;33m.\u001b[0m\u001b[0mpredict\u001b[0m\u001b[1;33m(\u001b[0m\u001b[1;33m[\u001b[0m\u001b[0mx\u001b[0m\u001b[1;33m]\u001b[0m\u001b[1;33m)\u001b[0m\u001b[1;33m[\u001b[0m\u001b[1;36m0\u001b[0m\u001b[1;33m]\u001b[0m \u001b[1;32mfor\u001b[0m \u001b[0malg\u001b[0m\u001b[1;33m,\u001b[0m \u001b[0mcoef\u001b[0m \u001b[1;32min\u001b[0m \u001b[0mzip\u001b[0m\u001b[1;33m(\u001b[0m\u001b[0mtrees_list\u001b[0m\u001b[1;33m,\u001b[0m \u001b[0mcoef_list\u001b[0m\u001b[1;33m)\u001b[0m\u001b[1;33m]\u001b[0m\u001b[1;33m)\u001b[0m \u001b[1;32mfor\u001b[0m \u001b[0mx\u001b[0m \u001b[1;32min\u001b[0m \u001b[0mX\u001b[0m\u001b[1;33m]\u001b[0m\u001b[1;33m)\u001b[0m\u001b[1;33m\u001b[0m\u001b[1;33m\u001b[0m\u001b[0m\n\u001b[0m",
      "\u001b[1;32m~\\Anaconda3\\lib\\site-packages\\sklearn\\tree\\tree.py\u001b[0m in \u001b[0;36mpredict\u001b[1;34m(self, X, check_input)\u001b[0m\n\u001b[0;32m    429\u001b[0m         \u001b[0mcheck_is_fitted\u001b[0m\u001b[1;33m(\u001b[0m\u001b[0mself\u001b[0m\u001b[1;33m,\u001b[0m \u001b[1;34m'tree_'\u001b[0m\u001b[1;33m)\u001b[0m\u001b[1;33m\u001b[0m\u001b[1;33m\u001b[0m\u001b[0m\n\u001b[0;32m    430\u001b[0m         \u001b[0mX\u001b[0m \u001b[1;33m=\u001b[0m \u001b[0mself\u001b[0m\u001b[1;33m.\u001b[0m\u001b[0m_validate_X_predict\u001b[0m\u001b[1;33m(\u001b[0m\u001b[0mX\u001b[0m\u001b[1;33m,\u001b[0m \u001b[0mcheck_input\u001b[0m\u001b[1;33m)\u001b[0m\u001b[1;33m\u001b[0m\u001b[1;33m\u001b[0m\u001b[0m\n\u001b[1;32m--> 431\u001b[1;33m         \u001b[0mproba\u001b[0m \u001b[1;33m=\u001b[0m \u001b[0mself\u001b[0m\u001b[1;33m.\u001b[0m\u001b[0mtree_\u001b[0m\u001b[1;33m.\u001b[0m\u001b[0mpredict\u001b[0m\u001b[1;33m(\u001b[0m\u001b[0mX\u001b[0m\u001b[1;33m)\u001b[0m\u001b[1;33m\u001b[0m\u001b[1;33m\u001b[0m\u001b[0m\n\u001b[0m\u001b[0;32m    432\u001b[0m         \u001b[0mn_samples\u001b[0m \u001b[1;33m=\u001b[0m \u001b[0mX\u001b[0m\u001b[1;33m.\u001b[0m\u001b[0mshape\u001b[0m\u001b[1;33m[\u001b[0m\u001b[1;36m0\u001b[0m\u001b[1;33m]\u001b[0m\u001b[1;33m\u001b[0m\u001b[1;33m\u001b[0m\u001b[0m\n\u001b[0;32m    433\u001b[0m \u001b[1;33m\u001b[0m\u001b[0m\n",
      "\u001b[1;31mKeyboardInterrupt\u001b[0m: "
     ]
    }
   ],
   "source": [
    "%%time\n",
    "eta = 0.01\n",
    "n_trees = 50\n",
    "trees, train_errors, test_errors = gb_fit(n_trees, max_depth, X_train, X_test, y_train, y_test, coefs, eta)"
   ]
  },
  {
   "cell_type": "code",
   "execution_count": 107,
   "metadata": {
    "colab": {},
    "colab_type": "code",
    "id": "l7l4ckNubsi4",
    "outputId": "9ec51d03-e81f-4538-d27c-6af1e211c590"
   },
   "outputs": [
    {
     "name": "stdout",
     "output_type": "stream",
     "text": [
      "Ошибка алгоритма из 50 деревьев глубиной 3     с шагом 0.01 на тренировочной выборке: 5898.251881317915\n",
      "Ошибка алгоритма из 50 деревьев глубиной 3     с шагом 0.01 на тестовой выборке: 7872.31667351414\n"
     ]
    }
   ],
   "source": [
    "evaluate_alg(X_train, X_test, y_train, y_test, trees, coefs, eta)"
   ]
  },
  {
   "cell_type": "code",
   "execution_count": 108,
   "metadata": {
    "colab": {},
    "colab_type": "code",
    "id": "L0dPsV_9bsi5",
    "outputId": "ea0709a1-f420-4cbd-c7fe-75c7b5f64c79"
   },
   "outputs": [
    {
     "data": {
      "image/png": "[encoded data removed]",
      "text/plain": [
       "<Figure size 432x288 with 1 Axes>"
      ]
     },
     "metadata": {
      "needs_background": "light"
     },
     "output_type": "display_data"
    }
   ],
   "source": [
    "get_error_plot(n_trees, train_errors, test_errors)"
   ]
  },
  {
   "cell_type": "markdown",
   "metadata": {
    "colab_type": "text",
    "id": "YTHcPMYhbsi7"
   },
   "source": [
    "При таком размере шага алгоритм сходится, но ему для достижения удовлетворительных показателей требуется большее количество итераций."
   ]
  },
  {
   "cell_type": "markdown",
   "metadata": {
    "colab_type": "text",
    "id": "CoXzz4Fhbsi8"
   },
   "source": [
    "Вернемся к шагу 0.1 и попробуем увеличить глубину деревьев"
   ]
  },
  {
   "cell_type": "code",
   "execution_count": 109,
   "metadata": {
    "colab": {},
    "colab_type": "code",
    "id": "hvLCSptsbsi8"
   },
   "outputs": [
    {
     "name": "stdout",
     "output_type": "stream",
     "text": [
      "Wall time: 1min 5s\n"
     ]
    }
   ],
   "source": [
    "%%time\n",
    "eta = 0.1\n",
    "max_depth = 100\n",
    "trees, train_errors, test_errors = gb_fit(n_trees, max_depth, X_train, X_test, y_train, y_test, coefs, eta)"
   ]
  },
  {
   "cell_type": "code",
   "execution_count": 110,
   "metadata": {
    "colab": {},
    "colab_type": "code",
    "id": "H493-X9Cbsi-",
    "outputId": "e77fb1e7-8723-49cb-de74-55806e798d02"
   },
   "outputs": [
    {
     "name": "stdout",
     "output_type": "stream",
     "text": [
      "Ошибка алгоритма из 50 деревьев глубиной 100     с шагом 0.1 на тренировочной выборке: 7.331536121135515e-06\n",
      "Ошибка алгоритма из 50 деревьев глубиной 100     с шагом 0.1 на тестовой выборке: 6882.703482409071\n"
     ]
    }
   ],
   "source": [
    "evaluate_alg(X_train, X_test, y_train, y_test, trees, coefs, eta)"
   ]
  },
  {
   "cell_type": "code",
   "execution_count": 111,
   "metadata": {
    "colab": {},
    "colab_type": "code",
    "id": "1ZGS4hIMbsjB",
    "outputId": "41d3b3a2-3d0a-4b82-d850-f9216261481a"
   },
   "outputs": [
    {
     "data": {
      "image/png": "[encoded data removed]",
      "text/plain": [
       "<Figure size 432x288 with 1 Axes>"
      ]
     },
     "metadata": {
      "needs_background": "light"
     },
     "output_type": "display_data"
    }
   ],
   "source": [
    "get_error_plot(n_trees, train_errors, test_errors)"
   ]
  },
  {
   "cell_type": "markdown",
   "metadata": {
    "colab_type": "text",
    "id": "Z2tMUhhXbsjK"
   },
   "source": [
    "## AdaBoost"
   ]
  },
  {
   "cell_type": "code",
   "execution_count": 112,
   "metadata": {
    "colab": {},
    "colab_type": "code",
    "id": "AMMYdEpSbsjM"
   },
   "outputs": [],
   "source": [
    "from sklearn.tree import DecisionTreeClassifier\n",
    "from sklearn.datasets import load_breast_cancer"
   ]
  },
  {
   "cell_type": "code",
   "execution_count": 113,
   "metadata": {
    "colab": {},
    "colab_type": "code",
    "id": "2cQW-bglbsjP"
   },
   "outputs": [],
   "source": [
    "X, y = load_breast_cancer(return_X_y=True)"
   ]
  },
  {
   "cell_type": "markdown",
   "metadata": {
    "colab_type": "text",
    "id": "HbArvbGPbsjS"
   },
   "source": [
    "Разделим выборку на обучающую и тестовую"
   ]
  },
  {
   "cell_type": "code",
   "execution_count": 114,
   "metadata": {
    "colab": {},
    "colab_type": "code",
    "id": "-3Q2bSlibsjV"
   },
   "outputs": [],
   "source": [
    "X_train, X_test, y_train, y_test = model_selection.train_test_split(X, y, test_size=0.25)"
   ]
  },
  {
   "cell_type": "markdown",
   "metadata": {
    "colab_type": "text",
    "id": "C-YeAmXObsjZ"
   },
   "source": [
    "Реализуем функцию подсчета ошибки"
   ]
  },
  {
   "cell_type": "code",
   "execution_count": 115,
   "metadata": {
    "colab": {},
    "colab_type": "code",
    "id": "qxVwBxTtbsja"
   },
   "outputs": [],
   "source": [
    "def get_error(pred, y):\n",
    "    return sum(pred != y) / len(y)"
   ]
  },
  {
   "cell_type": "markdown",
   "metadata": {
    "colab_type": "text",
    "id": "xVRjV3Rubsjb"
   },
   "source": [
    "И сам алгоритм"
   ]
  },
  {
   "cell_type": "code",
   "execution_count": 116,
   "metadata": {
    "colab": {},
    "colab_type": "code",
    "id": "wiKx_qKObsjb"
   },
   "outputs": [],
   "source": [
    "def adaboost(X, y, N):\n",
    "\n",
    "    # Размер выборки\n",
    "    n_objects = len(X)\n",
    "\n",
    "    # Запишем количество классов в переменную\n",
    "    n_classes = len(np.unique((y)))\n",
    "\n",
    "    # Начальные веса деревьев\n",
    "    w = np.ones(n_objects) / n_objects\n",
    "\n",
    "    # Деревья с весами будем записывать в список\n",
    "    models = []\n",
    "\n",
    "    for n in range(N):\n",
    "        # Зададим дерево и обучим его\n",
    "        clf = DecisionTreeClassifier(max_depth=1)\n",
    "        clf.fit(X, y, sample_weight=w)\n",
    "\n",
    "        predictions = clf.predict(X)\n",
    "        e = get_error(predictions, y)\n",
    "        # отбросим дерево, если его ошибка больше 0.5\n",
    "        # Запишем условие в общем виде (применимо к небинарным классификаторам)\n",
    "        if e >= 1 - 1/n_classes: \n",
    "            break\n",
    "\n",
    "        # Вычислим вес для дерева\n",
    "        alpha = 0.5 * np.log((1 - e) / e)\n",
    "\n",
    "        # Найдем индексы правильно классифицированных элементов\n",
    "        match = predictions == y\n",
    "\n",
    "        # Увеличим веса для неправильно классифицированных элементов\n",
    "        w[~match] *= np.exp(alpha)\n",
    "\n",
    "        # Нормализуем веса\n",
    "        w /= w.sum()\n",
    "\n",
    "        # Добавим дерево с весом в список\n",
    "        models.append((alpha, clf))\n",
    "    \n",
    "    return models"
   ]
  },
  {
   "cell_type": "markdown",
   "metadata": {
    "colab_type": "text",
    "id": "GCRBLGmYbsjd"
   },
   "source": [
    "Обучим алгоритм из 50 деревьев"
   ]
  },
  {
   "cell_type": "code",
   "execution_count": 117,
   "metadata": {
    "colab": {},
    "colab_type": "code",
    "id": "M2QwLTjkbsje"
   },
   "outputs": [],
   "source": [
    "N = 100\n",
    "models = adaboost(X_train, y_train, N)"
   ]
  },
  {
   "cell_type": "markdown",
   "metadata": {
    "colab_type": "text",
    "id": "pf6R7t9Wbsjg"
   },
   "source": [
    "Теперь осуществим предсказание"
   ]
  },
  {
   "cell_type": "code",
   "execution_count": 118,
   "metadata": {
    "colab": {},
    "colab_type": "code",
    "id": "1cRftLvhbsjg",
    "outputId": "c89e1b01-378e-4247-cc75-1f2ea03412cc"
   },
   "outputs": [],
   "source": [
    "def predict(X, models):\n",
    "    \n",
    "    n_classes = 2\n",
    "    n_objects = len(X)\n",
    "    \n",
    "    # вначале обозначим предсказание нулевым массивом\n",
    "    y_pred = np.zeros((n_objects, n_classes))\n",
    "    \n",
    "    for alpha, clf in models:\n",
    "        prediction = clf.predict(X)\n",
    "        # Для каждого предсказания будем прибавлять alpha к\n",
    "        # элементу с индексом предсказанного класса\n",
    "        y_pred[range(n_objects), prediction] += alpha\n",
    "    \n",
    "    # выберем индексы с максимальными суммарными весами -\n",
    "    # получим предсказанные алгоритмом классы\n",
    "    y_pred = np.argmax(y_pred, axis=1)\n",
    "    \n",
    "    return y_pred"
   ]
  },
  {
   "cell_type": "code",
   "execution_count": 119,
   "metadata": {
    "colab": {},
    "colab_type": "code",
    "id": "AIOQigknbsjj",
    "outputId": "eeb0e739-498b-4f52-bf6c-dc6bd9e71c08"
   },
   "outputs": [
    {
     "name": "stdout",
     "output_type": "stream",
     "text": [
      "Точность алгоритма на обучающей выборке: 98.826\n",
      "Точность алгоритма на тестовой выборке: 95.105\n"
     ]
    }
   ],
   "source": [
    "print(f'Точность алгоритма на обучающей выборке: {(1 - get_error(predict(X_train, models), y_train)) * 100:.3f}')\n",
    "print(f'Точность алгоритма на тестовой выборке: {(1 - get_error(predict(X_test, models), y_test)) * 100:.3f}')"
   ]
  },
  {
   "cell_type": "markdown",
   "metadata": {
    "colab_type": "text",
    "id": "64NptCn3bsjm"
   },
   "source": [
    "Построим графики зависимости ошибки от количества базовых алгоритмов в ансамбле."
   ]
  },
  {
   "cell_type": "code",
   "execution_count": 120,
   "metadata": {
    "colab": {},
    "colab_type": "code",
    "id": "f2diAmLwbsjn"
   },
   "outputs": [
    {
     "data": {
      "image/png": "[encoded data removed]",
      "text/plain": [
       "<Figure size 432x288 with 1 Axes>"
      ]
     },
     "metadata": {
      "needs_background": "light"
     },
     "output_type": "display_data"
    }
   ],
   "source": [
    "train_errors = []\n",
    "test_errors = []\n",
    "\n",
    "for n in range(1, 30):\n",
    "    mods = adaboost(X_train, y_train, n)\n",
    "    train_errors.append(get_error(predict(X_train, mods), y_train))\n",
    "    test_errors.append(get_error(predict(X_test, mods), y_test))\n",
    "    \n",
    "x = list(range(1, 30))\n",
    "\n",
    "plt.xlim(0, 30)\n",
    "plt.plot(x, train_errors, label='train errors')\n",
    "plt.plot(x, test_errors, label='test errors')\n",
    "plt.xlabel('N')\n",
    "plt.ylabel('Errors')\n",
    "plt.legend(loc='upper right');"
   ]
  },
  {
   "cell_type": "markdown",
   "metadata": {},
   "source": [
    "## Дополнительные материалы"
   ]
  },
  {
   "cell_type": "markdown",
   "metadata": {
    "colab": {},
    "colab_type": "code",
    "id": "MRpgPhisW_JM"
   },
   "source": [
    "1. [Лекция Радослава Нейчева на тему ансамблей](https://www.youtube.com/watch?v=md5krGNRrwU&list=PL4_hYwCyhAvasRqzz4w562ce0esEwS0Mt&index=8&t=10s)\n",
    "2. [Интерактивная визуализация градиентного бустинга](http://arogozhnikov.github.io/2016/06/24/gradient_boosting_explained.html)"
   ]
  },
  {
   "cell_type": "markdown",
   "metadata": {
    "colab": {},
    "colab_type": "code",
    "id": "jtD8x98oW_Mi"
   },
   "source": [
    "### Домашнее задание:  \n",
    "1. Для реализованной модели (gb_fit) построить графики зависимости ошибки от количества деревьев в ансамбле и от максимальной глубины деревьев. Сделать выводы о зависимости ошибки от этих параметров.  \n",
    "2. Модифицировать реализованный алгоритм, чтобы получился стохастический градиентный бустинг. Размер подвыборки принять равным 0.5. Сравнить на одном графике кривые изменения ошибки на тестовой выборке в зависимости от числа итераций."
   ]
  },
  {
   "cell_type": "markdown",
   "metadata": {},
   "source": [
    "#### 1. Для реализованной модели (gb_fit) построить графики зависимости ошибки от количества деревьев в ансамбле и от максимальной глубины деревьев. Сделать выводы о зависимости ошибки от этих параметров."
   ]
  },
  {
   "cell_type": "code",
   "execution_count": 35,
   "metadata": {},
   "outputs": [],
   "source": [
    "#Деревья от 1 до 30\n",
    "#Глубина от 1 до 50\n",
    "all_trees = np.linspace(1,30, 30, dtype=int)\n",
    "tree_depths = np.linspace(1,50, 50, dtype=int)"
   ]
  },
  {
   "cell_type": "code",
   "execution_count": 36,
   "metadata": {},
   "outputs": [],
   "source": [
    "def evaluate_alg(X_train, X_test, y_train, y_test, trees, coefs, eta):\n",
    "    \n",
    "    train_prediction = gb_predict(X_train, trees, coefs, eta)\n",
    "    \n",
    "    mse_train = mean_squared_error(y_train, train_prediction)\n",
    "\n",
    "    print(f'Ошибка алгоритма из {n_tree} деревьев глубиной {max_depth} \\\n",
    "    с шагом {eta} на тренировочной выборке: {mse_train}')\n",
    "\n",
    "    test_prediction = gb_predict(X_test, trees, coefs, eta)\n",
    "    \n",
    "    mse_test = mean_squared_error(y_test, test_prediction)\n",
    "\n",
    "    print(f'Ошибка алгоритма из {n_tree} деревьев глубиной {max_depth} \\\n",
    "    с шагом {eta} на тестовой выборке: {mse_test}')\n",
    "    return mse_train, mse_test\n",
    "    "
   ]
  },
  {
   "cell_type": "code",
   "execution_count": 37,
   "metadata": {},
   "outputs": [
    {
     "name": "stdout",
     "output_type": "stream",
     "text": [
      "Ошибка алгоритма из 1 деревьев глубиной 3     с шагом 0.1 на тренировочной выборке: 24193.82014490801\n",
      "Ошибка алгоритма из 1 деревьев глубиной 3     с шагом 0.1 на тестовой выборке: 23820.09526368946\n",
      "Ошибка алгоритма из 2 деревьев глубиной 3     с шагом 0.1 на тренировочной выборке: 16509.34575260841\n",
      "Ошибка алгоритма из 2 деревьев глубиной 3     с шагом 0.1 на тестовой выборке: 16200.375011687001\n",
      "Ошибка алгоритма из 3 деревьев глубиной 3     с шагом 0.1 на тренировочной выборке: 11564.073855639797\n",
      "Ошибка алгоритма из 3 деревьев глубиной 3     с шагом 0.1 на тестовой выборке: 11454.78161328372\n",
      "Ошибка алгоритма из 4 деревьев глубиной 3     с шагом 0.1 на тренировочной выборке: 8334.439161193586\n",
      "Ошибка алгоритма из 4 деревьев глубиной 3     с шагом 0.1 на тестовой выборке: 8395.174609255087\n",
      "Ошибка алгоритма из 5 деревьев глубиной 3     с шагом 0.1 на тренировочной выборке: 6232.3849953338595\n",
      "Ошибка алгоритма из 5 деревьев глубиной 3     с шагом 0.1 на тестовой выборке: 6360.029809273949\n",
      "Ошибка алгоритма из 6 деревьев глубиной 3     с шагом 0.1 на тренировочной выборке: 4849.505593938883\n",
      "Ошибка алгоритма из 6 деревьев глубиной 3     с шагом 0.1 на тестовой выборке: 5074.344463927084\n",
      "Ошибка алгоритма из 7 деревьев глубиной 3     с шагом 0.1 на тренировочной выборке: 3904.517625787422\n",
      "Ошибка алгоритма из 7 деревьев глубиной 3     с шагом 0.1 на тестовой выборке: 4341.666509330154\n",
      "Ошибка алгоритма из 8 деревьев глубиной 3     с шагом 0.1 на тренировочной выборке: 3277.136795403482\n",
      "Ошибка алгоритма из 8 деревьев глубиной 3     с шагом 0.1 на тестовой выборке: 3844.442560285818\n",
      "Ошибка алгоритма из 9 деревьев глубиной 3     с шагом 0.1 на тренировочной выборке: 2847.366671746188\n",
      "Ошибка алгоритма из 9 деревьев глубиной 3     с шагом 0.1 на тестовой выборке: 3599.2420954852996\n",
      "Ошибка алгоритма из 10 деревьев глубиной 3     с шагом 0.1 на тренировочной выборке: 2570.6606538476813\n",
      "Ошибка алгоритма из 10 деревьев глубиной 3     с шагом 0.1 на тестовой выборке: 3466.438328654011\n",
      "Ошибка алгоритма из 11 деревьев глубиной 3     с шагом 0.1 на тренировочной выборке: 2315.218005897684\n",
      "Ошибка алгоритма из 11 деревьев глубиной 3     с шагом 0.1 на тестовой выборке: 3312.4979970840473\n",
      "Ошибка алгоритма из 12 деревьев глубиной 3     с шагом 0.1 на тренировочной выборке: 2165.065760214722\n",
      "Ошибка алгоритма из 12 деревьев глубиной 3     с шагом 0.1 на тестовой выборке: 3238.1060772650444\n",
      "Ошибка алгоритма из 13 деревьев глубиной 3     с шагом 0.1 на тренировочной выборке: 2049.0689941398705\n",
      "Ошибка алгоритма из 13 деревьев глубиной 3     с шагом 0.1 на тестовой выборке: 3216.8794254444874\n",
      "Ошибка алгоритма из 14 деревьев глубиной 3     с шагом 0.1 на тренировочной выборке: 1962.1185572237473\n",
      "Ошибка алгоритма из 14 деревьев глубиной 3     с шагом 0.1 на тестовой выборке: 3157.4031286659547\n",
      "Ошибка алгоритма из 15 деревьев глубиной 3     с шагом 0.1 на тренировочной выборке: 1874.6594728428154\n",
      "Ошибка алгоритма из 15 деревьев глубиной 3     с шагом 0.1 на тестовой выборке: 3130.889875462446\n",
      "Ошибка алгоритма из 16 деревьев глубиной 3     с шагом 0.1 на тренировочной выборке: 1812.6240291977988\n",
      "Ошибка алгоритма из 16 деревьев глубиной 3     с шагом 0.1 на тестовой выборке: 3092.482408216568\n",
      "Ошибка алгоритма из 17 деревьев глубиной 3     с шагом 0.1 на тренировочной выборке: 1754.5533556452444\n",
      "Ошибка алгоритма из 17 деревьев глубиной 3     с шагом 0.1 на тестовой выборке: 3129.2865361553804\n",
      "Ошибка алгоритма из 18 деревьев глубиной 3     с шагом 0.1 на тренировочной выборке: 1702.2957949058843\n",
      "Ошибка алгоритма из 18 деревьев глубиной 3     с шагом 0.1 на тестовой выборке: 3156.5335857763635\n",
      "Ошибка алгоритма из 19 деревьев глубиной 3     с шагом 0.1 на тренировочной выборке: 1655.927309205457\n",
      "Ошибка алгоритма из 19 деревьев глубиной 3     с шагом 0.1 на тестовой выборке: 3104.669474380104\n",
      "Ошибка алгоритма из 20 деревьев глубиной 3     с шагом 0.1 на тренировочной выборке: 1609.3928924774873\n",
      "Ошибка алгоритма из 20 деревьев глубиной 3     с шагом 0.1 на тестовой выборке: 3110.1808106027606\n",
      "Ошибка алгоритма из 21 деревьев глубиной 3     с шагом 0.1 на тренировочной выборке: 1580.8589785459883\n",
      "Ошибка алгоритма из 21 деревьев глубиной 3     с шагом 0.1 на тестовой выборке: 3134.4570272821597\n",
      "Ошибка алгоритма из 22 деревьев глубиной 3     с шагом 0.1 на тренировочной выборке: 1528.5404532417074\n",
      "Ошибка алгоритма из 22 деревьев глубиной 3     с шагом 0.1 на тестовой выборке: 3084.6044721391136\n",
      "Ошибка алгоритма из 23 деревьев глубиной 3     с шагом 0.1 на тренировочной выборке: 1495.346014730065\n",
      "Ошибка алгоритма из 23 деревьев глубиной 3     с шагом 0.1 на тестовой выборке: 3118.3648439626536\n",
      "Ошибка алгоритма из 24 деревьев глубиной 3     с шагом 0.1 на тренировочной выборке: 1463.5178805242042\n",
      "Ошибка алгоритма из 24 деревьев глубиной 3     с шагом 0.1 на тестовой выборке: 3081.6694068924444\n",
      "Ошибка алгоритма из 25 деревьев глубиной 3     с шагом 0.1 на тренировочной выборке: 1439.275586881333\n",
      "Ошибка алгоритма из 25 деревьев глубиной 3     с шагом 0.1 на тестовой выборке: 3073.580268647016\n",
      "Ошибка алгоритма из 26 деревьев глубиной 3     с шагом 0.1 на тренировочной выборке: 1401.6991093785875\n",
      "Ошибка алгоритма из 26 деревьев глубиной 3     с шагом 0.1 на тестовой выборке: 3090.2251503449415\n",
      "Ошибка алгоритма из 27 деревьев глубиной 3     с шагом 0.1 на тренировочной выборке: 1351.5121638672551\n",
      "Ошибка алгоритма из 27 деревьев глубиной 3     с шагом 0.1 на тестовой выборке: 3083.061894061719\n",
      "Ошибка алгоритма из 28 деревьев глубиной 3     с шагом 0.1 на тренировочной выборке: 1340.9146236084266\n",
      "Ошибка алгоритма из 28 деревьев глубиной 3     с шагом 0.1 на тестовой выборке: 3084.42406673527\n",
      "Ошибка алгоритма из 29 деревьев глубиной 3     с шагом 0.1 на тренировочной выборке: 1326.9569132014628\n",
      "Ошибка алгоритма из 29 деревьев глубиной 3     с шагом 0.1 на тестовой выборке: 3090.702234679416\n",
      "Ошибка алгоритма из 30 деревьев глубиной 3     с шагом 0.1 на тренировочной выборке: 1312.9467828045006\n",
      "Ошибка алгоритма из 30 деревьев глубиной 3     с шагом 0.1 на тестовой выборке: 3079.0033259759803\n"
     ]
    }
   ],
   "source": [
    "eta = 0.1\n",
    "max_depth = 3\n",
    "train_mse = []\n",
    "test_mse = []\n",
    "for n_tree in all_trees:\n",
    "    coefs = [1] * n_tree\n",
    "    trees, train_errors, test_errors = gb_fit(n_tree, max_depth, X_train, X_test, y_train, y_test, coefs, eta)\n",
    "    trainmse, testmse = evaluate_alg(X_train, X_test, y_train, y_test, trees, coefs, eta)\n",
    "    train_mse.append(trainmse)\n",
    "    test_mse.append(testmse)\n",
    "\n",
    "        "
   ]
  },
  {
   "cell_type": "code",
   "execution_count": 38,
   "metadata": {},
   "outputs": [
    {
     "data": {
      "image/png": "[encoded data removed]",
      "text/plain": [
       "<Figure size 432x288 with 1 Axes>"
      ]
     },
     "metadata": {
      "needs_background": "light"
     },
     "output_type": "display_data"
    }
   ],
   "source": [
    "x = all_trees\n",
    "\n",
    "plt.plot(x, train_mse, label='train_mse')\n",
    "plt.plot(x, test_mse, label='test_mse')\n",
    "plt.xlabel('n_trees')\n",
    "plt.ylabel('MSE')\n",
    "plt.title('MSE от количества деревьев')\n",
    "plt.legend(loc='upper right');"
   ]
  },
  {
   "cell_type": "markdown",
   "metadata": {},
   "source": [
    "Видим, что с увеличением количества деревьев ошибка постепенно уменьшается, но ошибка на тренировочной выборке постоянно уменьшается (на выбранном нами отрезке), а на тестовой - стремится к определённому ненулевому значению"
   ]
  },
  {
   "cell_type": "code",
   "execution_count": 39,
   "metadata": {},
   "outputs": [
    {
     "name": "stdout",
     "output_type": "stream",
     "text": [
      "Ошибка алгоритма из 10 деревьев глубиной 1     с шагом 0.1 на тренировочной выборке: 3599.1928156558333\n",
      "Ошибка алгоритма из 10 деревьев глубиной 1     с шагом 0.1 на тестовой выборке: 3691.5923385659057\n",
      "Ошибка алгоритма из 10 деревьев глубиной 2     с шагом 0.1 на тренировочной выборке: 3049.2598432541463\n",
      "Ошибка алгоритма из 10 деревьев глубиной 2     с шагом 0.1 на тестовой выборке: 3423.189881628779\n",
      "Ошибка алгоритма из 10 деревьев глубиной 3     с шагом 0.1 на тренировочной выборке: 2570.6606538476813\n",
      "Ошибка алгоритма из 10 деревьев глубиной 3     с шагом 0.1 на тестовой выборке: 3466.438328654011\n",
      "Ошибка алгоритма из 10 деревьев глубиной 4     с шагом 0.1 на тренировочной выборке: 1926.7218224132164\n",
      "Ошибка алгоритма из 10 деревьев глубиной 4     с шагом 0.1 на тестовой выборке: 3636.3168141280835\n",
      "Ошибка алгоритма из 10 деревьев глубиной 5     с шагом 0.1 на тренировочной выборке: 1379.7739921110242\n",
      "Ошибка алгоритма из 10 деревьев глубиной 5     с шагом 0.1 на тестовой выборке: 3773.4862740534354\n",
      "Ошибка алгоритма из 10 деревьев глубиной 6     с шагом 0.1 на тренировочной выборке: 947.070039660472\n",
      "Ошибка алгоритма из 10 деревьев глубиной 6     с шагом 0.1 на тестовой выборке: 4108.599638207616\n",
      "Ошибка алгоритма из 10 деревьев глубиной 7     с шагом 0.1 на тренировочной выборке: 702.998889154703\n",
      "Ошибка алгоритма из 10 деревьев глубиной 7     с шагом 0.1 на тестовой выборке: 4261.7883683263935\n",
      "Ошибка алгоритма из 10 деревьев глубиной 8     с шагом 0.1 на тренировочной выборке: 527.3865005847734\n",
      "Ошибка алгоритма из 10 деревьев глубиной 8     с шагом 0.1 на тестовой выборке: 4413.9591392328775\n",
      "Ошибка алгоритма из 10 деревьев глубиной 9     с шагом 0.1 на тренировочной выборке: 460.5708611734224\n",
      "Ошибка алгоритма из 10 деревьев глубиной 9     с шагом 0.1 на тестовой выборке: 4345.974048389377\n",
      "Ошибка алгоритма из 10 деревьев глубиной 10     с шагом 0.1 на тренировочной выборке: 435.399368429013\n",
      "Ошибка алгоритма из 10 деревьев глубиной 10     с шагом 0.1 на тестовой выборке: 5280.196144347222\n",
      "Ошибка алгоритма из 10 деревьев глубиной 11     с шагом 0.1 на тренировочной выборке: 427.9232042413914\n",
      "Ошибка алгоритма из 10 деревьев глубиной 11     с шагом 0.1 на тестовой выборке: 5305.496421761107\n",
      "Ошибка алгоритма из 10 деревьев глубиной 12     с шагом 0.1 на тренировочной выборке: 426.5317522278482\n",
      "Ошибка алгоритма из 10 деревьев глубиной 12     с шагом 0.1 на тестовой выборке: 6141.293946699932\n",
      "Ошибка алгоритма из 10 деревьев глубиной 13     с шагом 0.1 на тренировочной выборке: 426.24125819483555\n",
      "Ошибка алгоритма из 10 деревьев глубиной 13     с шагом 0.1 на тестовой выборке: 5915.609051810606\n",
      "Ошибка алгоритма из 10 деревьев глубиной 14     с шагом 0.1 на тренировочной выборке: 426.11847689411087\n",
      "Ошибка алгоритма из 10 деревьев глубиной 14     с шагом 0.1 на тестовой выборке: 5930.652751318772\n",
      "Ошибка алгоритма из 10 деревьев глубиной 15     с шагом 0.1 на тренировочной выборке: 426.03683750492416\n",
      "Ошибка алгоритма из 10 деревьев глубиной 15     с шагом 0.1 на тестовой выборке: 6055.107060965549\n",
      "Ошибка алгоритма из 10 деревьев глубиной 16     с шагом 0.1 на тренировочной выборке: 426.0245790132392\n",
      "Ошибка алгоритма из 10 деревьев глубиной 16     с шагом 0.1 на тестовой выборке: 6027.583754176041\n",
      "Ошибка алгоритма из 10 деревьев глубиной 17     с шагом 0.1 на тренировочной выборке: 426.0245790132392\n",
      "Ошибка алгоритма из 10 деревьев глубиной 17     с шагом 0.1 на тестовой выборке: 6027.583754176041\n",
      "Ошибка алгоритма из 10 деревьев глубиной 18     с шагом 0.1 на тренировочной выборке: 426.0245790132392\n",
      "Ошибка алгоритма из 10 деревьев глубиной 18     с шагом 0.1 на тестовой выборке: 6027.583754176041\n",
      "Ошибка алгоритма из 10 деревьев глубиной 19     с шагом 0.1 на тренировочной выборке: 426.0245790132392\n",
      "Ошибка алгоритма из 10 деревьев глубиной 19     с шагом 0.1 на тестовой выборке: 6027.583754176041\n",
      "Ошибка алгоритма из 10 деревьев глубиной 20     с шагом 0.1 на тренировочной выборке: 426.0245790132392\n",
      "Ошибка алгоритма из 10 деревьев глубиной 20     с шагом 0.1 на тестовой выборке: 6027.583754176041\n",
      "Ошибка алгоритма из 10 деревьев глубиной 21     с шагом 0.1 на тренировочной выборке: 426.0245790132392\n",
      "Ошибка алгоритма из 10 деревьев глубиной 21     с шагом 0.1 на тестовой выборке: 6027.583754176041\n",
      "Ошибка алгоритма из 10 деревьев глубиной 22     с шагом 0.1 на тренировочной выборке: 426.0245790132392\n",
      "Ошибка алгоритма из 10 деревьев глубиной 22     с шагом 0.1 на тестовой выборке: 6027.583754176041\n",
      "Ошибка алгоритма из 10 деревьев глубиной 23     с шагом 0.1 на тренировочной выборке: 426.0245790132392\n",
      "Ошибка алгоритма из 10 деревьев глубиной 23     с шагом 0.1 на тестовой выборке: 6027.583754176041\n",
      "Ошибка алгоритма из 10 деревьев глубиной 24     с шагом 0.1 на тренировочной выборке: 426.0245790132392\n",
      "Ошибка алгоритма из 10 деревьев глубиной 24     с шагом 0.1 на тестовой выборке: 6027.583754176041\n",
      "Ошибка алгоритма из 10 деревьев глубиной 25     с шагом 0.1 на тренировочной выборке: 426.0245790132392\n",
      "Ошибка алгоритма из 10 деревьев глубиной 25     с шагом 0.1 на тестовой выборке: 6027.583754176041\n",
      "Ошибка алгоритма из 10 деревьев глубиной 26     с шагом 0.1 на тренировочной выборке: 426.0245790132392\n",
      "Ошибка алгоритма из 10 деревьев глубиной 26     с шагом 0.1 на тестовой выборке: 6027.583754176041\n",
      "Ошибка алгоритма из 10 деревьев глубиной 27     с шагом 0.1 на тренировочной выборке: 426.0245790132392\n",
      "Ошибка алгоритма из 10 деревьев глубиной 27     с шагом 0.1 на тестовой выборке: 6027.583754176041\n",
      "Ошибка алгоритма из 10 деревьев глубиной 28     с шагом 0.1 на тренировочной выборке: 426.0245790132392\n",
      "Ошибка алгоритма из 10 деревьев глубиной 28     с шагом 0.1 на тестовой выборке: 6027.583754176041\n",
      "Ошибка алгоритма из 10 деревьев глубиной 29     с шагом 0.1 на тренировочной выборке: 426.0245790132392\n",
      "Ошибка алгоритма из 10 деревьев глубиной 29     с шагом 0.1 на тестовой выборке: 6027.583754176041\n",
      "Ошибка алгоритма из 10 деревьев глубиной 30     с шагом 0.1 на тренировочной выборке: 426.0245790132392\n",
      "Ошибка алгоритма из 10 деревьев глубиной 30     с шагом 0.1 на тестовой выборке: 6027.583754176041\n",
      "Ошибка алгоритма из 10 деревьев глубиной 31     с шагом 0.1 на тренировочной выборке: 426.0245790132392\n",
      "Ошибка алгоритма из 10 деревьев глубиной 31     с шагом 0.1 на тестовой выборке: 6027.583754176041\n",
      "Ошибка алгоритма из 10 деревьев глубиной 32     с шагом 0.1 на тренировочной выборке: 426.0245790132392\n",
      "Ошибка алгоритма из 10 деревьев глубиной 32     с шагом 0.1 на тестовой выборке: 6027.583754176041\n",
      "Ошибка алгоритма из 10 деревьев глубиной 33     с шагом 0.1 на тренировочной выборке: 426.0245790132392\n",
      "Ошибка алгоритма из 10 деревьев глубиной 33     с шагом 0.1 на тестовой выборке: 6027.583754176041\n",
      "Ошибка алгоритма из 10 деревьев глубиной 34     с шагом 0.1 на тренировочной выборке: 426.0245790132392\n",
      "Ошибка алгоритма из 10 деревьев глубиной 34     с шагом 0.1 на тестовой выборке: 6027.583754176041\n",
      "Ошибка алгоритма из 10 деревьев глубиной 35     с шагом 0.1 на тренировочной выборке: 426.0245790132392\n",
      "Ошибка алгоритма из 10 деревьев глубиной 35     с шагом 0.1 на тестовой выборке: 6027.583754176041\n",
      "Ошибка алгоритма из 10 деревьев глубиной 36     с шагом 0.1 на тренировочной выборке: 426.0245790132392\n",
      "Ошибка алгоритма из 10 деревьев глубиной 36     с шагом 0.1 на тестовой выборке: 6027.583754176041\n",
      "Ошибка алгоритма из 10 деревьев глубиной 37     с шагом 0.1 на тренировочной выборке: 426.0245790132392\n",
      "Ошибка алгоритма из 10 деревьев глубиной 37     с шагом 0.1 на тестовой выборке: 6027.583754176041\n",
      "Ошибка алгоритма из 10 деревьев глубиной 38     с шагом 0.1 на тренировочной выборке: 426.0245790132392\n",
      "Ошибка алгоритма из 10 деревьев глубиной 38     с шагом 0.1 на тестовой выборке: 6027.583754176041\n",
      "Ошибка алгоритма из 10 деревьев глубиной 39     с шагом 0.1 на тренировочной выборке: 426.0245790132392\n",
      "Ошибка алгоритма из 10 деревьев глубиной 39     с шагом 0.1 на тестовой выборке: 6027.583754176041\n",
      "Ошибка алгоритма из 10 деревьев глубиной 40     с шагом 0.1 на тренировочной выборке: 426.0245790132392\n",
      "Ошибка алгоритма из 10 деревьев глубиной 40     с шагом 0.1 на тестовой выборке: 6027.583754176041\n",
      "Ошибка алгоритма из 10 деревьев глубиной 41     с шагом 0.1 на тренировочной выборке: 426.0245790132392\n",
      "Ошибка алгоритма из 10 деревьев глубиной 41     с шагом 0.1 на тестовой выборке: 6027.583754176041\n"
     ]
    },
    {
     "name": "stdout",
     "output_type": "stream",
     "text": [
      "Ошибка алгоритма из 10 деревьев глубиной 42     с шагом 0.1 на тренировочной выборке: 426.0245790132392\n",
      "Ошибка алгоритма из 10 деревьев глубиной 42     с шагом 0.1 на тестовой выборке: 6027.583754176041\n",
      "Ошибка алгоритма из 10 деревьев глубиной 43     с шагом 0.1 на тренировочной выборке: 426.0245790132392\n",
      "Ошибка алгоритма из 10 деревьев глубиной 43     с шагом 0.1 на тестовой выборке: 6027.583754176041\n",
      "Ошибка алгоритма из 10 деревьев глубиной 44     с шагом 0.1 на тренировочной выборке: 426.0245790132392\n",
      "Ошибка алгоритма из 10 деревьев глубиной 44     с шагом 0.1 на тестовой выборке: 6027.583754176041\n",
      "Ошибка алгоритма из 10 деревьев глубиной 45     с шагом 0.1 на тренировочной выборке: 426.0245790132392\n",
      "Ошибка алгоритма из 10 деревьев глубиной 45     с шагом 0.1 на тестовой выборке: 6027.583754176041\n",
      "Ошибка алгоритма из 10 деревьев глубиной 46     с шагом 0.1 на тренировочной выборке: 426.0245790132392\n",
      "Ошибка алгоритма из 10 деревьев глубиной 46     с шагом 0.1 на тестовой выборке: 6027.583754176041\n",
      "Ошибка алгоритма из 10 деревьев глубиной 47     с шагом 0.1 на тренировочной выборке: 426.0245790132392\n",
      "Ошибка алгоритма из 10 деревьев глубиной 47     с шагом 0.1 на тестовой выборке: 6027.583754176041\n",
      "Ошибка алгоритма из 10 деревьев глубиной 48     с шагом 0.1 на тренировочной выборке: 426.0245790132392\n",
      "Ошибка алгоритма из 10 деревьев глубиной 48     с шагом 0.1 на тестовой выборке: 6027.583754176041\n",
      "Ошибка алгоритма из 10 деревьев глубиной 49     с шагом 0.1 на тренировочной выборке: 426.0245790132392\n",
      "Ошибка алгоритма из 10 деревьев глубиной 49     с шагом 0.1 на тестовой выборке: 6027.583754176041\n",
      "Ошибка алгоритма из 10 деревьев глубиной 50     с шагом 0.1 на тренировочной выборке: 426.0245790132392\n",
      "Ошибка алгоритма из 10 деревьев глубиной 50     с шагом 0.1 на тестовой выборке: 6027.583754176041\n"
     ]
    }
   ],
   "source": [
    "eta = 0.1\n",
    "n_tree = 10\n",
    "train_mse = []\n",
    "test_mse = []\n",
    "for max_depth in tree_depths:\n",
    "    coefs = [1] * n_tree\n",
    "    trees, train_errors, test_errors = gb_fit(n_tree, max_depth, X_train, X_test, y_train, y_test, coefs, eta)\n",
    "    trainmse, testmse = evaluate_alg(X_train, X_test, y_train, y_test, trees, coefs, eta)\n",
    "    train_mse.append(trainmse)\n",
    "    test_mse.append(testmse)\n"
   ]
  },
  {
   "cell_type": "code",
   "execution_count": 40,
   "metadata": {},
   "outputs": [
    {
     "data": {
      "image/png": "[encoded data removed]",
      "text/plain": [
       "<Figure size 432x288 with 1 Axes>"
      ]
     },
     "metadata": {
      "needs_background": "light"
     },
     "output_type": "display_data"
    }
   ],
   "source": [
    "x = tree_depths\n",
    "\n",
    "plt.plot(x, train_mse, label='train_mse')\n",
    "plt.plot(x, test_mse, label='test_mse')\n",
    "plt.xlabel('tree_depths')\n",
    "plt.ylabel('MSE')\n",
    "plt.title('MSE от глубины деревьев')\n",
    "plt.legend(loc='upper right');"
   ]
  },
  {
   "cell_type": "markdown",
   "metadata": {},
   "source": [
    "Видим, что буквально после 3 деревьев модель уходит в переобучение и там и остаётся"
   ]
  },
  {
   "cell_type": "markdown",
   "metadata": {},
   "source": [
    "#### 2. Модифицировать реализованный алгоритм, чтобы получился стохастический градиентный бустинг. Размер подвыборки принять равным 0.5. Сравнить на одном графике кривые изменения ошибки на тестовой выборке в зависимости от числа итераций."
   ]
  },
  {
   "cell_type": "code",
   "execution_count": null,
   "metadata": {},
   "outputs": [],
   "source": [
    "def gb_fit(n_trees, max_depth, X_train, X_test, y_train, y_test, coefs, eta):\n",
    "    \n",
    "    # Деревья будем записывать в список\n",
    "    trees = []\n",
    "    \n",
    "    # Будем записывать ошибки на обучающей и тестовой выборке на каждой итерации в список\n",
    "    train_errors = []\n",
    "    test_errors = []\n",
    "    \n",
    "    for i in range(n_trees):\n",
    "        tree = DecisionTreeRegressor(max_depth=max_depth, random_state=42)\n",
    "\n",
    "        # инициализируем бустинг начальным алгоритмом, возвращающим ноль, \n",
    "        # поэтому первый алгоритм просто обучаем на выборке и добавляем в список\n",
    "        if len(trees) == 0:\n",
    "            # обучаем первое дерево на обучающей выборке\n",
    "            tree.fit(X_train, y_train)\n",
    "            \n",
    "            train_errors.append(mean_squared_error(y_train, gb_predict(X_train, trees, coefs, eta)))\n",
    "            test_errors.append(mean_squared_error(y_test, gb_predict(X_test, trees, coefs, eta)))\n",
    "        else:\n",
    "            # Получим ответы на текущей композиции\n",
    "            pred = gb_predict(X_train, trees, coefs, eta)\n",
    "            \n",
    "            # алгоритмы начиная со второго обучаем на сдвиг\n",
    "            tree.fit(X_train, deriv(y_train, pred))\n",
    "            \n",
    "            train_errors.append(mean_squared_error(y_train, gb_predict(X_train, trees, coefs, eta)))\n",
    "            test_errors.append(mean_squared_error(y_test, gb_predict(X_test, trees, coefs, eta)))\n",
    "\n",
    "        trees.append(tree)\n",
    "        \n",
    "    return trees, train_errors, test_errors"
   ]
  },
  {
   "cell_type": "code",
   "execution_count": 46,
   "metadata": {},
   "outputs": [],
   "source": [
    "def stohastic_gb_fit(n_trees, max_depth, X_train, X_test, y_train, y_test, coefs, eta, subsample_size=0.5):\n",
    "    \n",
    "    # Деревья будем записывать в список\n",
    "    trees = []\n",
    "    \n",
    "    # Будем записывать ошибки на обучающей и тестовой выборке на каждой итерации в список\n",
    "    train_errors = []\n",
    "    test_errors = []\n",
    "    \n",
    "    for i in range(n_trees):\n",
    "        tree = DecisionTreeRegressor(max_depth=max_depth, random_state=42)\n",
    "        if len(trees) == 0:\n",
    "            tree.fit(X_train, y_train)\n",
    "            \n",
    "            train_errors.append(mean_squared_error(y_train, gb_predict(X_train, trees, coefs, eta)))\n",
    "            test_errors.append(mean_squared_error(y_test, gb_predict(X_test, trees, coefs, eta)))\n",
    "        else:\n",
    "            selected_indexes = list(range(X_train.shape[0]))\n",
    "            train_indexes = np.random.choice(selected_indexes, size=int(subsample_size*len(selected_indexes)))\n",
    "            \n",
    "            pred = gb_predict(X_train[train_indexes], trees, coefs, eta)\n",
    "            \n",
    "            tree.fit(X_train[train_indexes], deriv(y_train[train_indexes], pred))\n",
    "            \n",
    "            train_errors.append(mean_squared_error(y_train, gb_predict(X_train, trees, coefs, eta)))\n",
    "            test_errors.append(mean_squared_error(y_test, gb_predict(X_test, trees, coefs, eta)))\n",
    "\n",
    "        trees.append(tree)\n",
    "        \n",
    "    return trees, train_errors, test_errors"
   ]
  },
  {
   "cell_type": "code",
   "execution_count": 49,
   "metadata": {},
   "outputs": [],
   "source": [
    "n_trees = 40\n",
    "coefs = [1] * n_trees\n",
    "max_depth = 3\n",
    "eta = 0.1\n",
    "\n",
    "trees, train_errors, test_errors = gb_fit(n_trees, max_depth, X_train, X_test, y_train, y_test, coefs, eta)\n",
    "trees, s_train_errors, s_test_errors = stohastic_gb_fit(n_trees, max_depth, X_train, X_test, y_train, y_test, coefs, eta)"
   ]
  },
  {
   "cell_type": "code",
   "execution_count": 50,
   "metadata": {},
   "outputs": [
    {
     "data": {
      "image/png": "[encoded data removed]",
      "text/plain": [
       "<Figure size 432x288 with 1 Axes>"
      ]
     },
     "metadata": {
      "needs_background": "light"
     },
     "output_type": "display_data"
    }
   ],
   "source": [
    "plt.plot(list(range(n_trees)), test_errors, label='градиентный бустинг')\n",
    "plt.plot(list(range(n_trees)), s_test_errors, label='стохастический градиентный бустинг')\n",
    "plt.xlabel('n_trees')\n",
    "plt.ylabel('MSE')\n",
    "plt.legend(loc='upper right')\n",
    "plt.show();"
   ]
  },
  {
   "cell_type": "code",
   "execution_count": null,
   "metadata": {},
   "outputs": [],
   "source": []
  }
 ],
 "metadata": {
  "colab": {
   "collapsed_sections": [],
   "name": "Lesson6.ipynb",
   "provenance": []
  },
  "kernelspec": {
   "display_name": "Python 3",
   "language": "python",
   "name": "python3"
  },
  "language_info": {
   "codemirror_mode": {
    "name": "ipython",
    "version": 3
   },
   "file_extension": ".py",
   "mimetype": "text/x-python",
   "name": "python",
   "nbconvert_exporter": "python",
   "pygments_lexer": "ipython3",
   "version": "3.7.3"
  }
 },
 "nbformat": 4,
 "nbformat_minor": 1
}
